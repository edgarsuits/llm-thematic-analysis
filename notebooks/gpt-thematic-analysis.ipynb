{
 "cells": [
  {
   "cell_type": "code",
   "execution_count": 9,
   "id": "125d2da5-c26e-479a-931e-fdb5a1a1431a",
   "metadata": {},
   "outputs": [],
   "source": [
    "import os\n",
    "import openai\n",
    "import tarfile\n",
    "import replicate\n",
    "import base64\n"
   ]
  },
  {
   "cell_type": "code",
   "execution_count": 3,
   "id": "9cd1cec5",
   "metadata": {},
   "outputs": [],
   "source": [
    "def get_openai_key():\n",
    "    # Check if the file exists\n",
    "    if not os.path.isfile('../openai_key.txt'):\n",
    "        # Create the file if it does not exist and write a default value or leave it blank\n",
    "        with open('../openai_key.txt', 'w') as file:\n",
    "            file.write('')  # You could prompt the user for a key or leave it blank\n",
    "    # Read the key from the file\n",
    "    with open('../openai_key.txt', 'r') as file:\n",
    "        return file.read().strip()\n",
    "\n",
    "\n",
    "# Usage\n",
    "openai.api_key = get_openai_key()"
   ]
  },
  {
   "cell_type": "code",
   "execution_count": 4,
   "metadata": {},
   "outputs": [],
   "source": [
    "def get_replicate_token():\n",
    "    # Check if the file exists\n",
    "    if not os.path.isfile('../replicate_token.txt'):\n",
    "        # Create the file if it does not exist and write a default value or leave it blank\n",
    "        with open('../replicate_token.txt', 'w') as file:\n",
    "            file.write('')  # You could prompt the user for a key or leave it blank\n",
    "    # Read the key from the file\n",
    "    with open('../replicate_token.txt', 'r') as file:\n",
    "        return file.read().strip()\n",
    "\n",
    "os.environ[\"REPLICATE_API_TOKEN\"] = get_replicate_token()"
   ]
  },
  {
   "cell_type": "code",
   "execution_count": 10,
   "id": "8c2139ff",
   "metadata": {},
   "outputs": [
    {
     "name": "stdout",
     "output_type": "stream",
     "text": [
      "Skipping juan-saenz.tar, directory ../data/raw/juan-saenz already exists.\n"
     ]
    }
   ],
   "source": [
    "\n",
    "def extract_tar_files(tar_dir, output_dir):\n",
    "    \"\"\"\n",
    "    Extracts all .tar files found in tar_dir to output_dir, skipping extraction if\n",
    "    the output directory for the .tar file already exists.\n",
    "\n",
    "    Parameters:\n",
    "    - tar_dir: Directory containing .tar files.\n",
    "    - output_dir: Directory where extracted files will be saved.\n",
    "    \"\"\"\n",
    "    # Ensure output directory exists\n",
    "    if not os.path.exists(output_dir):\n",
    "        os.makedirs(output_dir)\n",
    "\n",
    "    # Iterate over each file in the tar_dir\n",
    "    for file in os.listdir(tar_dir):\n",
    "        if file.endswith(\".tar\"):\n",
    "            # Construct full file path\n",
    "            tar_path = os.path.join(tar_dir, file)\n",
    "            # Construct the specific output path for this tar file\n",
    "            specific_output_dir = os.path.join(output_dir, os.path.splitext(file)[0])\n",
    "            \n",
    "            # Check if the specific output directory already exists\n",
    "            if not os.path.exists(specific_output_dir):\n",
    "                # If not, create the directory and proceed with extraction\n",
    "                os.makedirs(specific_output_dir)\n",
    "                \n",
    "                # Open the .tar file\n",
    "                with tarfile.open(tar_path, \"r:\") as tar:\n",
    "                    # Extract all contents to the specific output directory\n",
    "                    tar.extractall(path=specific_output_dir)\n",
    "                    print(f\"Extracted {file} to {specific_output_dir}\")\n",
    "            else:\n",
    "                # If directory exists, skip the extraction\n",
    "                print(f\"Skipping {file}, directory {specific_output_dir} already exists.\")\n",
    "\n",
    "\n",
    "extract_tar_files(\"../data/raw\", \"../data/raw\")\n"
   ]
  },
  {
   "cell_type": "code",
   "execution_count": 1,
   "id": "129073f4",
   "metadata": {},
   "outputs": [],
   "source": [
    "import os\n",
    "import ffmpeg\n",
    "import os\n",
    "\n",
    "def convert_m4a_to_mp3(directory):\n",
    "    \"\"\"\n",
    "    Converts all MP4 files found in the given directory to MP3.\n",
    "\n",
    "    Parameters:\n",
    "    - directory: The directory to scan for MP4 files.\n",
    "    \"\"\"\n",
    "    for filename in os.listdir(directory):\n",
    "        if filename.endswith(\".mp4\"):\n",
    "            m4a_path = os.path.join(directory, filename)\n",
    "            mp3_path = os.path.join(directory, filename[:-4] + '.mp3')\n",
    "            \n",
    "            # Run ffmpeg to convert m4a to mp3\n",
    "            ffmpeg.input(m4a_path).output(mp3_path).run()\n",
    "\n",
    "            print(f\"Converted {filename} to {filename[:-4]}.mp3\")\n",
    "\n",
    "\n",
    "# Example usage: replace 'path_to_directory' with the path to your directory\n",
    "convert_m4a_to_mp3('../data/raw/juan-saenz')\n",
    "\n",
    "\n"
   ]
  },
  {
   "cell_type": "code",
   "execution_count": 10,
   "id": "1c686c19-8c1e-4b05-8f5e-bb539cc5fc6b",
   "metadata": {},
   "outputs": [
    {
     "name": "stdout",
     "output_type": "stream",
     "text": [
      "{'language': 'it', 'num_speakers': 2, 'segments': [{'avg_logprob': -0.3639705917414497, 'end': '4.86', 'speaker': 'SPEAKER_00', 'start': '1.14', 'text': 'partito? sì sì', 'words': [{'end': 3.3, 'probability': 0.6839599609375, 'start': 1.14, 'word': 'partito?'}, {'end': 4.58, 'probability': 0.65087890625, 'start': 3.92, 'word': 'sì'}, {'end': 4.86, 'probability': 0.95556640625, 'start': 4.58, 'word': 'sì'}]}, {'avg_logprob': -0.3639705917414497, 'end': '1639.41', 'speaker': 'SPEAKER_00', 'start': '323.96', 'text': 'ciao', 'words': [{'end': 1639.41, 'probability': 0.98779296875, 'start': 1639.17, 'word': 'ciao'}]}, {'avg_logprob': -0.3639705917414497, 'end': '1644.44', 'speaker': 'SPEAKER_01', 'start': '1642.66', 'text': 'bella domanda', 'words': [{'end': 1643.98, 'probability': 0.58074951171875, 'start': 1642.66, 'word': 'bella'}, {'end': 1644.44, 'probability': 0.9990234375, 'start': 1643.98, 'word': 'domanda'}]}, {'avg_logprob': -0.3639705917414497, 'end': '1646.84', 'speaker': 'SPEAKER_00', 'start': '1644.44', 'text': 'eh sì dovrei', 'words': [{'end': 1645.28, 'probability': 0.7451171875, 'start': 1644.44, 'word': 'eh'}, {'end': 1646.12, 'probability': 0.99951171875, 'start': 1645.28, 'word': 'sì'}, {'end': 1646.84, 'probability': 0.904296875, 'start': 1646.12, 'word': 'dovrei'}]}, {'avg_logprob': -0.3639705917414497, 'end': '2161.31', 'speaker': 'SPEAKER_01', 'start': '1646.84', 'text': 'ok stop', 'words': [{'end': 1648.56, 'probability': 0.986328125, 'start': 1646.84, 'word': 'ok'}, {'end': 2161.31, 'probability': 0.99267578125, 'start': 2160.85, 'word': 'stop'}]}, {'avg_logprob': -0.3639705917414497, 'end': '2169.45', 'speaker': 'SPEAKER_01', 'start': '2163.54', 'text': 'aspetta che stoppo la registrazione la faccio ripartire', 'words': [{'end': 2164.86, 'probability': 0.8859049479166666, 'start': 2163.54, 'word': 'aspetta'}, {'end': 2166.55, 'probability': 0.99755859375, 'start': 2166.49, 'word': 'che'}, {'end': 2166.99, 'probability': 0.98095703125, 'start': 2166.55, 'word': 'stoppo'}, {'end': 2167.07, 'probability': 0.9990234375, 'start': 2166.99, 'word': 'la'}, {'end': 2167.83, 'probability': 1, 'start': 2167.07, 'word': 'registrazione'}, {'end': 2168.49, 'probability': 0.92529296875, 'start': 2167.83, 'word': 'la'}, {'end': 2168.87, 'probability': 0.999755859375, 'start': 2168.49, 'word': 'faccio'}, {'end': 2169.45, 'probability': 0.9996744791666666, 'start': 2168.87, 'word': 'ripartire'}]}]}\n"
     ]
    }
   ],
   "source": [
    "with open(\"/Users/tommasocalo/Documents/AutoInterviews/ai-interviews-processor/data/raw/juan-saenz/writing-session-saenz.mp3\", 'rb') as file:\n",
    "  data = base64.b64encode(file.read()).decode('utf-8')\n",
    "  file = f\"data:application/octet-stream;base64,{data}\"\n",
    "\n",
    "input = {\n",
    "    \"file\": file,\n",
    "    \"prompt\": \"Alberto Interviewing Juan\",\n",
    "    \"file_url\": \"\",\n",
    "    \"num_speakers\": 2,\n",
    "    \"language\":\"it\"\n",
    "}\n",
    "\n",
    "output = replicate.run(\n",
    "    \"thomasmol/whisper-diarization:b9fd8313c0d492bf1ce501b3d188f945389327730773ec1deb6ef233df6ea119\",\n",
    "    input=input\n",
    ")\n",
    "print(output)"
   ]
  },
  {
   "cell_type": "code",
   "execution_count": null,
   "id": "3d84ddb4",
   "metadata": {},
   "outputs": [],
   "source": []
  }
 ],
 "metadata": {
  "kernelspec": {
   "display_name": "Python 3 (ipykernel)",
   "language": "python",
   "name": "python3"
  },
  "language_info": {
   "codemirror_mode": {
    "name": "ipython",
    "version": 3
   },
   "file_extension": ".py",
   "mimetype": "text/x-python",
   "name": "python",
   "nbconvert_exporter": "python",
   "pygments_lexer": "ipython3",
   "version": "3.8.6"
  }
 },
 "nbformat": 4,
 "nbformat_minor": 5
}
