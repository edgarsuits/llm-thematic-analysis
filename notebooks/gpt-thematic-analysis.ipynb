{
 "cells": [
  {
   "cell_type": "code",
   "execution_count": 2,
   "id": "125d2da5-c26e-479a-931e-fdb5a1a1431a",
   "metadata": {},
   "outputs": [],
   "source": [
    "import os\n",
    "import openai\n",
    "import tarfile\n",
    "import replicate"
   ]
  },
  {
   "cell_type": "code",
   "execution_count": 3,
   "id": "9cd1cec5",
   "metadata": {},
   "outputs": [],
   "source": [
    "def get_openai_key():\n",
    "    # Check if the file exists\n",
    "    if not os.path.isfile('../openai_key.txt'):\n",
    "        # Create the file if it does not exist and write a default value or leave it blank\n",
    "        with open('../openai_key.txt', 'w') as file:\n",
    "            file.write('')  # You could prompt the user for a key or leave it blank\n",
    "    # Read the key from the file\n",
    "    with open('../openai_key.txt', 'r') as file:\n",
    "        return file.read().strip()\n",
    "\n",
    "\n",
    "# Usage\n",
    "openai.api_key = get_openai_key()"
   ]
  },
  {
   "cell_type": "code",
   "execution_count": 4,
   "metadata": {},
   "outputs": [],
   "source": [
    "def get_replicate_token():\n",
    "    # Check if the file exists\n",
    "    if not os.path.isfile('../replicate_token.txt'):\n",
    "        # Create the file if it does not exist and write a default value or leave it blank\n",
    "        with open('../replicate_token.txt', 'w') as file:\n",
    "            file.write('')  # You could prompt the user for a key or leave it blank\n",
    "    # Read the key from the file\n",
    "    with open('../replicate_token.txt', 'r') as file:\n",
    "        return file.read().strip()\n",
    "\n",
    "os.environ[\"REPLICATE_API_TOKEN\"] = get_replicate_token()"
   ]
  },
  {
   "cell_type": "code",
   "execution_count": 10,
   "id": "8c2139ff",
   "metadata": {},
   "outputs": [
    {
     "name": "stdout",
     "output_type": "stream",
     "text": [
      "Skipping juan-saenz.tar, directory ../data/raw/juan-saenz already exists.\n"
     ]
    }
   ],
   "source": [
    "\n",
    "def extract_tar_files(tar_dir, output_dir):\n",
    "    \"\"\"\n",
    "    Extracts all .tar files found in tar_dir to output_dir, skipping extraction if\n",
    "    the output directory for the .tar file already exists.\n",
    "\n",
    "    Parameters:\n",
    "    - tar_dir: Directory containing .tar files.\n",
    "    - output_dir: Directory where extracted files will be saved.\n",
    "    \"\"\"\n",
    "    # Ensure output directory exists\n",
    "    if not os.path.exists(output_dir):\n",
    "        os.makedirs(output_dir)\n",
    "\n",
    "    # Iterate over each file in the tar_dir\n",
    "    for file in os.listdir(tar_dir):\n",
    "        if file.endswith(\".tar\"):\n",
    "            # Construct full file path\n",
    "            tar_path = os.path.join(tar_dir, file)\n",
    "            # Construct the specific output path for this tar file\n",
    "            specific_output_dir = os.path.join(output_dir, os.path.splitext(file)[0])\n",
    "            \n",
    "            # Check if the specific output directory already exists\n",
    "            if not os.path.exists(specific_output_dir):\n",
    "                # If not, create the directory and proceed with extraction\n",
    "                os.makedirs(specific_output_dir)\n",
    "                \n",
    "                # Open the .tar file\n",
    "                with tarfile.open(tar_path, \"r:\") as tar:\n",
    "                    # Extract all contents to the specific output directory\n",
    "                    tar.extractall(path=specific_output_dir)\n",
    "                    print(f\"Extracted {file} to {specific_output_dir}\")\n",
    "            else:\n",
    "                # If directory exists, skip the extraction\n",
    "                print(f\"Skipping {file}, directory {specific_output_dir} already exists.\")\n",
    "\n",
    "\n",
    "extract_tar_files(\"../data/raw\", \"../data/raw\")\n"
   ]
  },
  {
   "cell_type": "code",
   "execution_count": 6,
   "id": "129073f4",
   "metadata": {},
   "outputs": [
    {
     "name": "stdout",
     "output_type": "stream",
     "text": [
      "Converted writing-session-saenz.mp4 to writing-session-saenz.mp3\n"
     ]
    }
   ],
   "source": [
    "import os\n",
    "import ffmpeg\n",
    "import os\n",
    "\n",
    "def convert_mp4_to_mp3(directory):\n",
    "    \"\"\"\n",
    "    Converts all MP4 files found in the given directory to MP3.\n",
    "\n",
    "    Parameters:\n",
    "    - directory: The directory to scan for MP4 files.\n",
    "    \"\"\"\n",
    "    for filename in os.listdir(directory):\n",
    "        if filename.endswith(\".mp4\"):\n",
    "            # Construct the full path to the MP4 file\n",
    "            full_path_to_mp4 = os.path.join(directory, filename)\n",
    "            # Define the output path for the MP3 (same name, different extension)\n",
    "            mp3_filename = filename[:-4] + '.mp3'\n",
    "            full_path_to_mp3 = os.path.join(directory, mp3_filename)\n",
    "\n",
    "            # Use ffmpeg to convert the MP4 to MP3\n",
    "            try:\n",
    "                ffmpeg.input(full_path_to_mp4).output(full_path_to_mp3).run(overwrite_output=True)\n",
    "                print(f\"Converted {filename} to {mp3_filename}\")\n",
    "            except ffmpeg.Error as e:\n",
    "                print(f\"Error converting file {filename}: {e}\")\n",
    "\n",
    "# Example usage: replace 'path_to_directory' with the path to your directory\n",
    "convert_mp4_to_mp3('../data/raw/juan-saenz')\n",
    "\n",
    "\n"
   ]
  },
  {
   "cell_type": "code",
   "execution_count": 38,
   "id": "1c686c19-8c1e-4b05-8f5e-bb539cc5fc6b",
   "metadata": {},
   "outputs": [],
   "source": [
    "input = {\n",
    "    \"file\": \"/Users/tommasocalo/Documents/AutoInterviews/ai-interviews-processor/data/raw/juan-saenz/writing-session-saenz.mp3\",\n",
    "    \"prompt\": \"Alberto Interviewin Juan\",\n",
    "    \"file_url\": \"\",\n",
    "    \"num_speakers\": 2\n",
    "    \"language\":\"it\"\n",
    "}\n",
    "\n",
    "output = replicate.run(\n",
    "    \"thomasmol/whisper-diarization:b9fd8313c0d492bf1ce501b3d188f945389327730773ec1deb6ef233df6ea119\",\n",
    "    input=input\n",
    ")\n",
    "print(output)"
   ]
  }
 ],
 "metadata": {
  "kernelspec": {
   "display_name": "Python 3 (ipykernel)",
   "language": "python",
   "name": "python3"
  },
  "language_info": {
   "codemirror_mode": {
    "name": "ipython",
    "version": 3
   },
   "file_extension": ".py",
   "mimetype": "text/x-python",
   "name": "python",
   "nbconvert_exporter": "python",
   "pygments_lexer": "ipython3",
   "version": "3.8.6"
  }
 },
 "nbformat": 4,
 "nbformat_minor": 5
}
